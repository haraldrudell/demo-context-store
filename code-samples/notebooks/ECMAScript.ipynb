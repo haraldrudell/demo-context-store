{
  "cells": [
    {
      "cell_type": "markdown",
      "source": [
        "# ECMAScript Language\n",
        "ECMAScript Draft Language Specification: https://tc39.github.io/ecma262\n",
        "\n",
        "Markdown syntax: https://daringfireball.net/projects/markdown/syntax\n"
      ],
      "metadata": {
        "collapsed": false,
        "outputHidden": false,
        "inputHidden": false
      }
    },
    {
      "cell_type": "markdown",
      "source": [
        "Enum: ECMAScript 2019 does not provide enum\n",
        "Typically using object properties with value same as name but in lower case\n",
        "* Inserting a value then does not change subsequent values\n",
        "* Each value is guaranteed to be unique\n"
      ],
      "metadata": {}
    },
    {
      "cell_type": "code",
      "source": [
        "const seasons = {\n",
        "    SUMMER: {\n",
        "        BEGINNING: 'summer.beginning',\n",
        "        ENDING: 'summer.ending',\n",
        "    },\n",
        "    WINTER: 'winter',\n",
        "}"
      ],
      "outputs": [],
      "execution_count": null,
      "metadata": {
        "collapsed": false,
        "outputHidden": false,
        "inputHidden": false
      }
    },
    {
      "cell_type": "markdown",
      "source": [
        "Because new has higher precedence than function call, **new f(1)(2)** first instantiates an F via **new f(1)**, and then executes the result as a function **g(2)**. Because new f returns a function instead of a contructed object, this does not throw an Error.\n",
        "\nThis lead to **new require('events').EventEmitter** requiring parenthesis like **new (require('events')).EventEmitter**"
      ],
      "metadata": {}
    },
    {
      "cell_type": "code",
      "source": [
        "/*\n",
        "    is:\n",
        "new f(1)(2)\n",
        "    evaluated as:\n",
        "(new f(1))(2)\n",
        "    or\n",
        "new (f(1))(2)\n",
        "*/\n",
        "function f() {\n",
        "    console.log('f: this.constructor.name:', Object(Object(this).constructor).name)\n",
        "    return g}\n",
        "function g(v) {\n",
        "    console.log('g: this.constructor.name:', Object(Object(this).constructor).name)\n",
        "}\n",
        "{\n",
        "    const o = new f(1)(2)\n",
        "    console.log('constructor:', Object(Object(o).constructor).name)\n",
        "}\n"
      ],
      "outputs": [
        {
          "output_type": "stream",
          "name": "stdout",
          "text": [
            "f: this.constructor.name: f\n",
            "g: this.constructor.name: Object\n",
            "constructor: Object\n"
          ]
        }
      ],
      "execution_count": 5,
      "metadata": {
        "collapsed": false,
        "outputHidden": false,
        "inputHidden": false
      }
    },
    {
      "cell_type": "markdown",
      "source": [
        "### 12.3.2 Property Accessors\n",
        "**dot notation**: MemberExpression . IdentifierName<br/>\n",
        "**bracket notation**: MemberExpression [ Expression ]\n",
        "These associate left-to-riught since "
      ],
      "metadata": {}
    }
  ],
  "metadata": {
    "kernel_info": {
      "name": "node_nteract"
    },
    "language_info": {
      "name": "javascript",
      "version": "8.9.3",
      "mimetype": "application/javascript",
      "file_extension": ".js"
    },
    "kernelspec": {
      "name": "node_nteract",
      "language": "javascript",
      "display_name": "Node.js (nteract)"
    },
    "nteract": {
      "version": "0.11.7"
    }
  },
  "nbformat": 4,
  "nbformat_minor": 4
}