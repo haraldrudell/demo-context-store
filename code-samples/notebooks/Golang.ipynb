{
 "cells": [
  {
   "cell_type": "markdown",
   "metadata": {},
   "source": [
    "# Resources\n",
    "\n",
    "The Go or Golang programming language has a Web site: https://golang.org/<br/>\n",
    "Language Specification: https://golang.org/ref/spec"
   ]
  },
  {
   "cell_type": "markdown",
   "metadata": {},
   "source": [
    "# Source Code Representation\n",
    "\n",
    "Text encoding is **utf-8**<br/>\n",
    "Comments are **//** double-slash to end of line or **/* \\*/**<br/>\n",
    "White space is **space tab carriage-return newline**<br/>\n",
    "letters and digits are per Unicode character classes with underscore considered a letter<br/>\n",
    "Token classes: identifiers keywords operators-and-punctuation literals\n",
    "\n",
    "**identifier**: begins with letter, consists of letters and digits\n",
    "\n",
    "**keywords**: break        default      func         interface    select\n",
    "case         defer        go           map          struct\n",
    "chan         else         goto         package      switch\n",
    "const        fallthrough  if           range        type\n",
    "continue     for          import       return       var\n",
    "\n",
    "**operators and punctuation**: +    &     +=    &=     &&    ==    !=    (    )<br/>\n",
    "\\-    |     -=    |=     ||    <     <=    \\[    ]<br/>\n",
    "\\*    ^     *=    ^=     <-    >     >=    {    }<br/>\n",
    "/    <<    /=    <<=    ++    =     :=    ,    ;<br/>\n",
    "%    >>    %=    >>=    --    !     ...   .    :<br/>\n",
    "     &^          &^=\n",
    " "
   ]
  },
  {
   "cell_type": "markdown",
   "metadata": {},
   "source": [
    "## Integer Literals\n",
    "prefix: 0 octal 0x hexadecimal (a-fA-F)"
   ]
  },
  {
   "cell_type": "code",
   "execution_count": 1,
   "metadata": {
    "inputHidden": false,
    "outputHidden": false
   },
   "outputs": [
    {
     "data": {
      "text/plain": [
       "195951310"
      ]
     },
     "execution_count": 1,
     "metadata": {},
     "output_type": "execute_result"
    }
   ],
   "source": [
    "42\n",
    "0600\n",
    "0xBadFace"
   ]
  },
  {
   "cell_type": "markdown",
   "metadata": {},
   "source": [
    "## Floating-Point Literals\n",
    "Contains period or exponent<br/>\n",
    "Exponent is eE may have +- always decimal\n",
    "\n",
    "## Imaginary Literals\n",
    "Defines the imaginary part of a complex constant\n",
    "decimals or float followed by **i**"
   ]
  },
  {
   "cell_type": "markdown",
   "metadata": {},
   "source": [
    "## Rune Literal\n",
    "Single quotes, \\abfnrtv\\'\"<br/>\n",
    "\\x12 \\u1234 \\U12345678 \\nnn is octal\n",
    "## String Literals\n",
    "Double quotes: no newline or unescaped double quote, \\' not allowed \\\" is \\xnn \\nnn represent bytes<br/>\n",
    "back quotes for raw literal, any character except back-quote, cr discarded"
   ]
  },
  {
   "cell_type": "markdown",
   "metadata": {},
   "source": [
    "# Variables\n",
    "Structured: array slice struct"
   ]
  },
  {
   "cell_type": "markdown",
   "metadata": {},
   "source": [
    "# Types\n",
    "## Interface Types\n",
    "\n",
    "Polymorphism is achived using interfaces<br/>\n",
    "Interfaces are a list of method signatures\n",
    "\n",
    "<pre>InterfaceType      = \"interface\" \"{\" { MethodSpec \";\" } \"}\" .\n",
    "MethodSpec         = MethodName Signature | InterfaceTypeName .\n",
    "MethodName         = identifier .\n",
    "InterfaceTypeName  = TypeName ."
   ]
  },
  {
   "cell_type": "code",
   "execution_count": 2,
   "metadata": {
    "inputHidden": false,
    "outputHidden": false
   },
   "outputs": [
    {
     "ename": "ERROR",
     "evalue": "repl.go:2:2: undefined identifier: aMethod",
     "output_type": "error",
     "traceback": [
      "repl.go:2:2: undefined identifier: aMethod"
     ]
    }
   ],
   "source": [
    "type someName interface {\n",
    " aMethod\n",
    " anInterface\n",
    "}"
   ]
  },
  {
   "cell_type": "markdown",
   "metadata": {},
   "source": [
    "# Declarations and Scope\n",
    "## Predeclared identifiers\n",
    "**Types:**\n",
    "\tbool byte complex64 complex128 error float32 float64\n",
    "\tint int8 int16 int32 int64 rune string\n",
    "\tuint uint8 uint16 uint32 uint64 uintptr\n",
    "\n",
    "**Constants:**\n",
    "\ttrue false iota\n",
    "\n",
    "**Zero value:**\n",
    "\tnil\n",
    "\n",
    "**Functions:**\n",
    "\tappend cap close complex copy delete imag len\n",
    "\tmake new panic print println real recover\n",
    "## Exported Identifiers\n",
    "the first character of the identifier's name is a Unicode upper case letter (Unicode class \"Lu\"); and<br/>\n",
    "the identifier is declared in the package block or it is a field name or method name."
   ]
  },
  {
   "cell_type": "markdown",
   "metadata": {},
   "source": [
    "## Type Declarations\n",
    "type ()"
   ]
  },
  {
   "cell_type": "markdown",
   "metadata": {},
   "source": [
    "## Method Declarations\n",
    "\n",
    "A method is a function with a receiver. The receiver is a type name like T or \\*T\n",
    "\n",
    "https://golang.org/ref/spec#Method_declarations"
   ]
  },
  {
   "cell_type": "markdown",
   "metadata": {},
   "source": [
    "type ()"
   ]
  },
  {
   "cell_type": "markdown",
   "metadata": {},
   "source": [
    "# Expressions\n",
    "## Conversions\n",
    "T(x)\n",
    "## Constant Expressions\n",
    "comparison: untyped boolean constant<br/>\n",
    "shift: integer constant\n",
    "boolean integer floating-point complex string"
   ]
  }
 ],
 "metadata": {
  "kernel_info": {
   "name": "gophernotes"
  },
  "kernelspec": {
   "display_name": "Go",
   "language": "go",
   "name": "gophernotes"
  },
  "language_info": {
   "codemirror_mode": "",
   "file_extension": ".go",
   "mimetype": "",
   "name": "go",
   "nbconvert_exporter": "",
   "pygments_lexer": "",
   "version": "go1.9.2"
  },
  "nteract": {
   "version": "0.9.1"
  }
 },
 "nbformat": 4,
 "nbformat_minor": 4
}
